{
 "metadata": {
  "name": "",
  "signature": "sha256:6a9e7fd0eba1478f7c23b63fcff045625ab377546b877138b1336d8c7d82c61f"
 },
 "nbformat": 3,
 "nbformat_minor": 0,
 "worksheets": [
  {
   "cells": [
    {
     "cell_type": "markdown",
     "metadata": {},
     "source": [
      "# Theano Tutorial: Basics\n",
      "\n",
      "Import basic packages"
     ]
    },
    {
     "cell_type": "code",
     "collapsed": false,
     "input": [
      "import theano\n",
      "import theano.tensor as T\n",
      "import numpy as np\n",
      "print('Default theano precision: '+str(theano.config.floatX))"
     ],
     "language": "python",
     "metadata": {},
     "outputs": [
      {
       "output_type": "stream",
       "stream": "stdout",
       "text": [
        "Default theano precision: float32\n"
       ]
      }
     ],
     "prompt_number": 36
    },
    {
     "cell_type": "markdown",
     "metadata": {},
     "source": [
      "### Single variable scalar function\n",
      "Create symbolic scalar variable `x`."
     ]
    },
    {
     "cell_type": "code",
     "collapsed": false,
     "input": [
      "x = T.scalar('x')\n",
      "y = 2*x+3\n",
      "print(y)"
     ],
     "language": "python",
     "metadata": {},
     "outputs": [
      {
       "output_type": "stream",
       "stream": "stdout",
       "text": [
        "Elemwise{add,no_inplace}.0\n"
       ]
      }
     ],
     "prompt_number": 17
    },
    {
     "cell_type": "markdown",
     "metadata": {},
     "source": [
      "Printed `y` says it's a symbolic expression (not pretty though). How to calculate the expression then? See the following."
     ]
    },
    {
     "cell_type": "code",
     "collapsed": false,
     "input": [
      "f = theano.function(inputs=[x], outputs=y)\n",
      "print(f(1))"
     ],
     "language": "python",
     "metadata": {},
     "outputs": [
      {
       "output_type": "stream",
       "stream": "stdout",
       "text": [
        "5.0\n"
       ]
      }
     ],
     "prompt_number": 16
    },
    {
     "cell_type": "markdown",
     "metadata": {},
     "source": [
      "`theano.function` takes two symbolic variables: inputs and outputs. It compiles symbolic expression to computable code (we cannot see the actual code but we don't need to care about it). The compiled function `f` now takes inputs as `x` and returns corresponding `y` value."
     ]
    },
    {
     "cell_type": "markdown",
     "metadata": {},
     "source": [
      "### Two variable scalar function\n",
      "Create symbolic scalar variable `x`, `y`,  expression `z` and evaluating function `f`."
     ]
    },
    {
     "cell_type": "code",
     "collapsed": false,
     "input": [
      "x = T.scalar('x')\n",
      "y = T.scalar('y')\n",
      "z = x+2*T.sin(np.pi/2 *y)\n",
      "w = 3*x+y\n",
      "f = theano.function(inputs=[x,y], outputs=[z,w])\n",
      "r1, r2 = f(1,2)\n",
      "r3, r4 = f(2,1)\n",
      "print('r1: 1+2*sin(pi/2*2) = {}'.format(r1))\n",
      "print('r2: 3*1+2 = {}'.format(r2))\n",
      "print('r3: 2+2*sin(pi/2*1) = {}'.format(r3))\n",
      "print('r4: 3*2+1 = {}'.format(r4))"
     ],
     "language": "python",
     "metadata": {},
     "outputs": [
      {
       "output_type": "stream",
       "stream": "stdout",
       "text": [
        "r1: 1+2*sin(pi/2*2) = 1.0\n",
        "r2: 3*1+2 = 5.0\n",
        "r3: 2+2*sin(pi/2*1) = 4.0\n",
        "r4: 3*2+1 = 7.0\n"
       ]
      }
     ],
     "prompt_number": 23
    },
    {
     "cell_type": "markdown",
     "metadata": {},
     "source": [
      "First note that you can compute multiple outputs using list. Second, when there are two (or more) inputs you just pass two arguments like `f(1,2)` not like `f([1,2])`."
     ]
    },
    {
     "cell_type": "markdown",
     "metadata": {},
     "source": [
      "### Using Vector variable\n",
      "Create vector variable `x`"
     ]
    },
    {
     "cell_type": "code",
     "collapsed": false,
     "input": [
      "x = T.vector('x')\n",
      "y = (x-2)**2+1\n",
      "f = theano.function([x], y)\n",
      "\n",
      "xval = np.linspace(-5,5,101, dtype=theano.config.floatX)\n",
      "print('xval: '+str(xval))\n",
      "yval = f(xval)\n",
      "print('yval: '+str(yval))"
     ],
     "language": "python",
     "metadata": {},
     "outputs": [
      {
       "output_type": "stream",
       "stream": "stdout",
       "text": [
        "xval: [-5.         -4.9000001  -4.80000019 -4.69999981 -4.5999999  -4.5\n",
        " -4.4000001  -4.30000019 -4.19999981 -4.0999999  -4.         -3.9000001\n",
        " -3.79999995 -3.69999981 -3.5999999  -3.5        -3.4000001  -3.29999995\n",
        " -3.19999981 -3.0999999  -3.         -2.89999986 -2.79999995 -2.70000005\n",
        " -2.5999999  -2.5        -2.39999986 -2.29999995 -2.20000005 -2.0999999  -2.\n",
        " -1.89999986 -1.79999995 -1.70000005 -1.5999999  -1.5        -1.39999986\n",
        " -1.29999995 -1.20000005 -1.0999999  -1.         -0.9000001  -0.79999971\n",
        " -0.69999981 -0.5999999  -0.5        -0.4000001  -0.29999971 -0.19999981\n",
        " -0.0999999   0.          0.0999999   0.20000029  0.30000019  0.4000001\n",
        "  0.5         0.5999999   0.70000029  0.80000019  0.9000001   1.          1.0999999\n",
        "  1.20000029  1.30000019  1.4000001   1.5         1.5999999   1.70000029\n",
        "  1.80000019  1.9000001   2.          2.0999999   2.20000029  2.30000019\n",
        "  2.4000001   2.5         2.5999999   2.70000029  2.80000019  2.9000001   3.\n",
        "  3.10000038  3.19999981  3.30000019  3.40000057  3.5         3.60000038\n",
        "  3.69999981  3.80000019  3.90000057  4.          4.10000038  4.19999981\n",
        "  4.30000019  4.40000057  4.5         4.60000038  4.69999981  4.80000019\n",
        "  4.90000057  5.        ]\n",
        "yval: [ 50.          48.61000061  47.24000168  45.88999557  44.55999756  43.25\n",
        "  41.9600029   40.69000244  39.43999863  38.20999908  37.          35.81000137\n",
        "  34.6400032   33.48999786  32.36000061  31.25        30.16000175\n",
        "  29.09000206  28.0399971   27.00999832  26.          25.00999641\n",
        "  24.04000092  23.08999825  22.15999985  21.25        20.3599968\n",
        "  19.49000168  18.63999748  17.80999947  17.          16.20999908\n",
        "  15.43999958  14.69000053  13.95999908  13.25        12.55999947\n",
        "  11.88999939  11.24000072  10.60999966  10.           9.4100008\n",
        "   8.83999825   8.28999901   7.75999928   7.25         6.76000023\n",
        "   6.28999853   5.8399992    5.40999937   5.           4.61000013\n",
        "   4.23999882   3.88999939   3.5599997    3.25         2.96000028\n",
        "   2.68999934   2.43999958   2.2099998    2.           1.81000018\n",
        "   1.63999951   1.48999977   1.3599999    1.25         1.16000009\n",
        "   1.08999979   1.03999996   1.00999999   1.           1.00999999\n",
        "   1.04000008   1.09000015   1.16000009   1.25         1.3599999\n",
        "   1.49000037   1.64000034   1.81000018   2.           2.21000075\n",
        "   2.43999958   2.69000053   2.96000171   3.25         3.56000113\n",
        "   3.88999939   4.24000072   4.61000204   5.           5.41000175\n",
        "   5.8399992    6.29000092   6.76000261   7.25         7.76000214\n",
        "   8.28999901   8.84000111   9.41000366  10.        ]\n"
       ]
      }
     ],
     "prompt_number": 32
    },
    {
     "cell_type": "markdown",
     "metadata": {},
     "source": [
      "The calculation is done in vectors. Let us plot the result."
     ]
    },
    {
     "cell_type": "code",
     "collapsed": false,
     "input": [
      "plot(xval, yval)"
     ],
     "language": "python",
     "metadata": {},
     "outputs": [
      {
       "metadata": {},
       "output_type": "pyout",
       "prompt_number": 34,
       "text": [
        "[<matplotlib.lines.Line2D at 0x7f5bbb9c2a90>]"
       ]
      },
      {
       "metadata": {},
       "output_type": "display_data",
       "png": "[encoded data removed]",
       "text": [
        "<matplotlib.figure.Figure at 0x7f5bbbaa26d0>"
       ]
      }
     ],
     "prompt_number": 34
    },
    {
     "cell_type": "markdown",
     "metadata": {},
     "source": [
      "### Using matrix variables\n",
      "Create matrix variable `A`, vector variable `x` and compute the expresison."
     ]
    },
    {
     "cell_type": "code",
     "collapsed": false,
     "input": [
      "A = T.matrix('A')\n",
      "x = T.vector('x')\n",
      "y = T.dot(A,x)\n",
      "f = theano.function([A,x], y)\n",
      "\n",
      "Aval = np.array([[2,0],[1,-1]], dtype=theano.config.floatX)\n",
      "xval = np.array([2,3], dtype=theano.config.floatX)\n",
      "yval = f(Aval,xval)\n",
      "\n",
      "print('Aval: \\n'+str(Aval))\n",
      "print('xval: \\n'+str(xval))\n",
      "print('yval: \\n'+str(yval))"
     ],
     "language": "python",
     "metadata": {},
     "outputs": [
      {
       "output_type": "stream",
       "stream": "stdout",
       "text": [
        "Aval: \n",
        "[[ 2.  0.]\n",
        " [ 1. -1.]]\n",
        "xval: \n",
        "[ 2.  3.]\n",
        "yval: \n",
        "[ 4. -1.]\n"
       ]
      }
     ],
     "prompt_number": 39
    }
   ],
   "metadata": {}
  }
 ]
}